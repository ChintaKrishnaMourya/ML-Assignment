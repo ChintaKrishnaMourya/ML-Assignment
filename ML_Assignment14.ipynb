{
 "cells": [
  {
   "attachments": {},
   "cell_type": "markdown",
   "metadata": {},
   "source": [
    "### 1. What is the concept of supervised learning? What is the significance of the name?\n",
    "it is Machine learning technique , where the algorithm learns from labeled data.  The significance of the name is the learning process is supervised by the input of labeled data."
   ]
  },
  {
   "attachments": {},
   "cell_type": "markdown",
   "metadata": {},
   "source": [
    "### 2. In the hospital sector, offer an example of supervised learning.\n",
    "Wuth the given symptoms and the history of heart attack, we can use this data to predict whether the patient with certain symptoms is at risk of heart attack."
   ]
  },
  {
   "attachments": {},
   "cell_type": "markdown",
   "metadata": {},
   "source": [
    "### 3. Give three supervised learning examples.\n",
    "\n",
    "Supervised learning examples : image classification, sentoment analysis, Fraud detection. Algorithm learns on the labelled dataset and classify the input."
   ]
  },
  {
   "attachments": {},
   "cell_type": "markdown",
   "metadata": {},
   "source": [
    "### 4. In supervised learning, what are classification and regression?\n",
    "\n",
    "Clasasification is used to predict a categorical label or class for a given input. \n",
    "\n",
    "Regression is used to predict a continuous numeric value for a given input."
   ]
  },
  {
   "attachments": {},
   "cell_type": "markdown",
   "metadata": {},
   "source": [
    "### 5. Give some popular classification algorithms as examples.\n",
    "\n",
    "Logistic Regression, Random Forest, Naive Bayes.\n"
   ]
  },
  {
   "attachments": {},
   "cell_type": "markdown",
   "metadata": {},
   "source": [
    "### 6. Briefly describe the SVM model.\n",
    "It  works by finding the optimal hyperplane that separates data points into different classes in a high-dimensional space. It is used for both classification and regression."
   ]
  },
  {
   "attachments": {},
   "cell_type": "markdown",
   "metadata": {},
   "source": [
    "### 7. In SVM, what is the cost of misclassification?\n",
    "\n",
    "cost of misclassification is the penalty or loss incurred by the model when a data point is misclassified."
   ]
  },
  {
   "attachments": {},
   "cell_type": "markdown",
   "metadata": {},
   "source": [
    "### 8. In the SVM model, define Support Vectors.\n",
    "Support vectors are the data points that are closest to the decision boundary or hyperplane. These points are the most important for defining the boundary and are used to optimize the hyperplane.\n"
   ]
  },
  {
   "attachments": {},
   "cell_type": "markdown",
   "metadata": {},
   "source": [
    "### 9. In the SVM model, define the kernel.\n",
    "\n",
    "the kernel is a function that transforms the input data into a higher-dimensional feature space where it can be separated more easily."
   ]
  },
  {
   "attachments": {},
   "cell_type": "markdown",
   "metadata": {},
   "source": [
    "### 10. What are the factors that influence SVM's effectiveness?\n",
    "The factors that influence SVM's effectiveness :kernel function, kernel parameters, regularization parameter, and the quality and quantity of the training data.\n"
   ]
  },
  {
   "attachments": {},
   "cell_type": "markdown",
   "metadata": {},
   "source": [
    "### 11. What are the benefits of using the SVM model?\n",
    "SVM model is used to handle high-dimensional data. It is effective for separating non-linearly separable data.\n"
   ]
  },
  {
   "attachments": {},
   "cell_type": "markdown",
   "metadata": {},
   "source": [
    "### 12.  What are the drawbacks of using the SVM model?\n",
    "\n",
    "SVM may not perform well when the classes are imbalanced.\n",
    "\n",
    "Overfit when model is too complex or data is too noisy.\n",
    "\n",
    "Its difficulty in handling large datasets"
   ]
  },
  {
   "attachments": {},
   "cell_type": "markdown",
   "metadata": {},
   "source": [
    "### 13. Notes should be written on\n",
    "\n",
    "1. The kNN algorithm has a validation flaw : kNN algorithm does not inherently have a validation flaw. KNN Algorithm can be subject to overfitting or underfitting if not properly validated. It depends on optimal value of \"k\".\n",
    "\n",
    "2. In the kNN algorithm, the k value is chosen : k is a hyperparameter that needs to be chosen before training the model. The value of k determines the number of nearest neighbors that will be considered when making a prediction for a new data point.\n",
    "\n",
    "3. A decision tree with inductive bias : Inductive bias is the prior assumptions that are built into the model, which influence how the tree is constructed and how decisions are made.\n"
   ]
  },
  {
   "attachments": {},
   "cell_type": "markdown",
   "metadata": {},
   "source": [
    "### 14. What are some of the benefits of the kNN algorithm?\n",
    "\n",
    "some of the benefits of the kNN algorithm: bility to handle both binary and multi-class classification problems and also effective in high dimensional data."
   ]
  },
  {
   "attachments": {},
   "cell_type": "markdown",
   "metadata": {},
   "source": [
    "### 15. What are some of the kNN algorithm's drawbacks?\n",
    "It is sensitive to the value of \"k\". It doesnt build any model, but it remembers whole data.\n",
    "\n"
   ]
  },
  {
   "attachments": {},
   "cell_type": "markdown",
   "metadata": {},
   "source": [
    "### 16. Explain the decision tree algorithm in a few words.\n",
    " decision tree algorithm is a machine learning model that uses a tree-like structure to represent a set of decisions and their possible outcomes.\n"
   ]
  },
  {
   "attachments": {},
   "cell_type": "markdown",
   "metadata": {},
   "source": [
    "### 17. What is the difference between a node and a leaf in a decision tree?\n",
    " a node represents a decision point, where the input data is split based on the value of a particular feature. \n",
    "\n",
    "A leaf represents a final decision or outcome, with no further splits or decisions needed.\n"
   ]
  },
  {
   "attachments": {},
   "cell_type": "markdown",
   "metadata": {},
   "source": [
    "### 18. What is a decision tree's entropy?\n",
    " entropy is a measure of the impurity or randomness of a set of data points.\n"
   ]
  },
  {
   "attachments": {},
   "cell_type": "markdown",
   "metadata": {},
   "source": [
    "### 19. In a decision tree, define knowledge gain.\n",
    "\n",
    "knowledge gain refers to the reduction in entropy achieved by splitting the input data based on a particular feature. \n",
    "\n",
    "Main goal is to maximize the knowledge gain at each decision point to build an effective decision tree."
   ]
  },
  {
   "attachments": {},
   "cell_type": "markdown",
   "metadata": {},
   "source": [
    "### 20. Choose three advantages of the decision tree approach and write them down.\n",
    "\n",
    "It is interpretable, and its ability to handle both numerical and categorical data, and its ability to capture non-linear relationships between features.\n",
    "\n"
   ]
  },
  {
   "attachments": {},
   "cell_type": "markdown",
   "metadata": {},
   "source": [
    "### 21. Make a list of three flaws in the decision tree process.\n",
    "\n",
    "its tendency towards overfitting or underfitting.\n",
    "\n",
    "It is sensitive to choice of splitting criteria.\n",
    "\n",
    "It is potential for bias towards certain features or outcomes.\n"
   ]
  },
  {
   "attachments": {},
   "cell_type": "markdown",
   "metadata": {},
   "source": [
    "### 22. Briefly describe the random forest model.\n",
    "\n",
    "random forest model is an ensemble learning method that combines multiple decision trees to improve performance and reduce overfitting.\n",
    "\n",
    "It works by building a set of decision trees on random subsets of the features,by replacing the data points. And finally aggregate the predictions of the individual trees to make a final prediction."
   ]
  }
 ],
 "metadata": {
  "language_info": {
   "name": "python"
  },
  "orig_nbformat": 4
 },
 "nbformat": 4,
 "nbformat_minor": 2
}
