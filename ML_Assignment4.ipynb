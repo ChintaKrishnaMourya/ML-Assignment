{
 "cells": [
  {
   "attachments": {},
   "cell_type": "markdown",
   "metadata": {},
   "source": [
    "### 1. What are the key tasks involved in getting ready to work with machine learning modeling?\n",
    "Collecting data and preproccessing it to understand the data. Choose a model based on understanding data and business understanding, traini9ng the model and evaluating it by parameter tuning, and finally testing to predict the outcome.\n",
    "\n",
    "One should aware of statistical concepts, and cleaning the data by dealing with missing vales and outliers, or  else they will effect the model badly."
   ]
  },
  {
   "attachments": {},
   "cell_type": "markdown",
   "metadata": {},
   "source": [
    "### 2. What are the different forms of data used in machine learning? Give a specific example for each of them.\n",
    "\n",
    "Different forms of data used in ML is Numeric,Time series,Categorical,Image,Text. \n",
    "Numeric data is used to predict house prices, or westher prediction etc, time series is the data labelled with time used to predict trends in stock market, sales with respect to time, categorical data is used for classification of data like email filtering , image data is used to classify picturess , like we use cats , dogs images to train the model , t helps to classify given image to cat or dog, text data consists of text and labelled with some data, used to find sentiment analysis or emain filtering."
   ]
  },
  {
   "attachments": {},
   "cell_type": "markdown",
   "metadata": {},
   "source": [
    "### 3. Distinguish:\n",
    "1. Numeric vs. categorical attributes : Numerical data are numbers, \tCategorical data numbers do not carry a sense of magnitude , they are used to represent classes.\n",
    "2. Feature selection vs. dimensionality reduction : Feautre selection is a subset of features from original data, which best represent the data and dimensionality reduction is the process of transforming the features into a lower dimension.\n"
   ]
  },
  {
   "attachments": {},
   "cell_type": "markdown",
   "metadata": {},
   "source": [
    "### 4. Make quick notes on any two of the following:\n",
    "\n",
    "1. The histogram : It is the graphical representation of the data in the forms of bars, used to show frequency distributions. \n",
    "\n",
    "2. Use a scatter plot : It is a plot that uses dots to represent values for two different numeric variables. It is used to find the relation between two features.\n",
    "\n",
    "3.PCA (Personal Computer Aid) : (Taking it as Principal Component Analysis(PCA)) : statistical procedure that converts a set of correlated variables to a set of uncorrelated variables. It is  used to visualize multidimensional data. It is used to reduce the number of dimensions in the data."
   ]
  },
  {
   "attachments": {},
   "cell_type": "markdown",
   "metadata": {},
   "source": [
    "### 5. Why is it necessary to investigate data? Is there a discrepancy in how qualitative and quantitative data are explored?\n",
    "Investigating data helps to summarize the main characteristics by visual representation, and it also helps to how best to manipulate data, andd to discover patterns and spot anomalies.\n",
    "\n",
    "Qualitative data is more descriptive and exploratory , while quantitative dara focusses on the facts that can be proven with numbers.\n"
   ]
  },
  {
   "attachments": {},
   "cell_type": "markdown",
   "metadata": {},
   "source": [
    "### 6. What are the various histogram shapes? What exactly are ‘bins&#39;?\n",
    "\n",
    "Bell-shaped histogram,  Uniform histogram, Left Skewed and right skewed histogram, random shaped histogram.\n",
    "\n",
    "BIns are the bars in the histogram."
   ]
  },
  {
   "attachments": {},
   "cell_type": "markdown",
   "metadata": {},
   "source": [
    "### 7. How do we deal with data outliers?\n",
    "\n",
    "WE can first find the outliers by plotting boxplot, finding standard deviations or histogram, or regression line etc . We then, use capping the outliers to certain values or certain percentiles, or by trimming or by replacing outliers with mean or median."
   ]
  },
  {
   "attachments": {},
   "cell_type": "markdown",
   "metadata": {},
   "source": [
    "### 8. What are the various central inclination measures? Why does mean vary too much from median in certain data sets?\n",
    "\n",
    "Mean, Median ,Mode are central inclination measures. When there is a outlier, meam may change drastically, where as median doesnt effect much."
   ]
  },
  {
   "attachments": {},
   "cell_type": "markdown",
   "metadata": {},
   "source": [
    "### 9. Describe how a scatter plot can be used to investigate bivariate relationships. Is it possible to find outliers using a scatter plot?\n",
    "\n",
    "Scatter plot in bivariate helps us find how those two fesatures are linked. If the dots form like line, or exponential etc , then there is a relationship between two features. \n",
    "\n",
    "Yes, it is possible to find the outliers using scatter plot."
   ]
  },
  {
   "attachments": {},
   "cell_type": "markdown",
   "metadata": {},
   "source": [
    "### 10. Describe how cross-tabs can be used to figure out how two variables are related.\n",
    "\n",
    "To describe the relationship between two categorical variables, we use cross-tab.  The categories of one variable determine the rows of the table, and the categories of the other variable determine the columns. So , the categorical rows shows the values of categorical columns. We can find some insights from that."
   ]
  }
 ],
 "metadata": {
  "language_info": {
   "name": "python"
  },
  "orig_nbformat": 4
 },
 "nbformat": 4,
 "nbformat_minor": 2
}
