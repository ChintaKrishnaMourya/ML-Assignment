{
 "cells": [
  {
   "attachments": {},
   "cell_type": "markdown",
   "metadata": {},
   "source": [
    "### 1. Provide an example of the concepts of Prior, Posterior, and Likelihood.\n",
    "\n",
    "To determine the probability of a patient having a certain disease given their symptoms :\n",
    "\n",
    "Prior probability is our initial probability of the patient having the disease before considering any symptoms.\n",
    "\n",
    "Posterior probability is the probability of the patient having the disease after considering the symptoms.\n",
    "\n",
    "Likelihood probability is the probability of observing the patient's symptoms if he has the disease."
   ]
  },
  {
   "attachments": {},
   "cell_type": "markdown",
   "metadata": {},
   "source": [
    "### 2. What role does Bayes' theorem play in the concept learning principle?\n",
    "It updates the probabilities based on new information. "
   ]
  },
  {
   "attachments": {},
   "cell_type": "markdown",
   "metadata": {},
   "source": [
    "### 3. Offer an example of how the Nave Bayes classifier is used in real life.\n",
    "It is commonly used in spam filtering of emails. It classifies based on the text in the emails. It learns the probability of certain words in spam emails and non-spam emails from a training set of labeled emails and uses this information to predict the probability of a new email being spam or not."
   ]
  },
  {
   "attachments": {},
   "cell_type": "markdown",
   "metadata": {},
   "source": [
    "### 4. Can the Nave Bayes classifier be used on continuous numeric data? If so, how can you go about doing it?\n",
    "\n",
    "Yes, the Naive Bayes classifier be used on continuous numeric data. we can divide the range of possible values into several intervals and assign each interval a value, i.e converting data into a set of categorical features. "
   ]
  }
 ],
 "metadata": {
  "language_info": {
   "name": "python"
  },
  "orig_nbformat": 4
 },
 "nbformat": 4,
 "nbformat_minor": 2
}
