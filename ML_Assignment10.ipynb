{
 "cells": [
  {
   "attachments": {},
   "cell_type": "markdown",
   "metadata": {},
   "source": [
    "### 1.\tDefine the Bayesian interpretation of probability.\n",
    "\n",
    "Bayesian interpretation of probability : Probability represents the likelyhood of certain thing will happen. We use Bayes theorem, it refers to probability of hypothesis to probability of data by taking the prior happenings or belifes.\n",
    "\n",
    "P(A|B)=P(A).P(B|A)/ P(B)"
   ]
  },
  {
   "attachments": {},
   "cell_type": "markdown",
   "metadata": {},
   "source": [
    "### 2.\tDefine probability of a union of two events with equation.\n",
    "\n",
    "probability of a union of two events = P(A U B) = P(A)+P(B)-P(A ^ B)\n",
    "\n",
    "P(A) IS PROBABILITY OF EVENT A, P(B) IS PROBABILITY OF B, P(A^B) IS PROBABILITY OF INTERSECTION OF EVENTS A & B"
   ]
  },
  {
   "attachments": {},
   "cell_type": "markdown",
   "metadata": {},
   "source": [
    "### 3.\tWhat is joint probability? What is its formula?\n",
    "\n",
    "Joint probability is the probability of two or more events occuring together. It is denoted by P(A^B). It is calculated by P(A^B)= P(A)*P(B|A), where P(B|A) is the conditional probability of event B is given that event A has occurred."
   ]
  },
  {
   "attachments": {},
   "cell_type": "markdown",
   "metadata": {},
   "source": [
    "### 4.\tWhat is chain rule of probability?\n",
    "\n",
    "Chain rule of probability is a way to calculate the joint probability of multiple events using conditional probabilities."
   ]
  },
  {
   "attachments": {},
   "cell_type": "markdown",
   "metadata": {},
   "source": [
    "### 5.\tWhat is conditional probability means? What is the formula of it?\n",
    "\n",
    "Conditional probability is the probability of an event occuring, given that  another event has already occurred. It is denoted by P(A|B), probability of event A happeningg , given that event B has already occurred.\n",
    "\n",
    "P(A|B)= P(A^B)/P(B)"
   ]
  },
  {
   "attachments": {},
   "cell_type": "markdown",
   "metadata": {},
   "source": [
    "### 6.\tWhat are continuous random variables?\n",
    "\n",
    "continuous random variables can be defined as random variable that can take on an infinite number of possible values. Some random continuous probability distributinos include normal distribution, exponential distribution etc."
   ]
  },
  {
   "attachments": {},
   "cell_type": "markdown",
   "metadata": {},
   "source": [
    "### 7.\tWhat are Bernoulli distributions? What is the formula of it?\n",
    "\n",
    "Bernoulli distribution model the probability  of a single binary event occuring with a given probability p.\n",
    "\n",
    "P(X=x)= p^x* (1-p)^(1-x), X is random variable that represents the outcome of the event, and x can be 0 or 1."
   ]
  },
  {
   "attachments": {},
   "cell_type": "markdown",
   "metadata": {},
   "source": [
    "### 8.\tWhat is binomial distribution? What is the formula?\n",
    "\n",
    "The binomial distribution is a discrete probability distribution that describes the probability of given number of successes in a fixed number of independent trails,each with same probability of success.\n",
    "\n",
    "P(X=k)= (n choose k)*p^k * (1-p)^(n-k)\n",
    "\n",
    "n choose k is the binomial coefficient that represents the number of ways to choose k successes from n trails."
   ]
  },
  {
   "attachments": {},
   "cell_type": "markdown",
   "metadata": {},
   "source": [
    "### 9.\tWhat is Poisson distribution? What is the formula?\n",
    "\n",
    "Posson distributuion is a discrete probability distribution that describes the probability of a given number of events occurring in a fixed interval of time or space, when the events occur independently and with a known average rate.\n",
    "\n",
    "Poisson Distribution : P(X=k) = (e^lambda(-lambda)* lambda^k)/ k!\n",
    "\n",
    "lambda = mean or expected number of events in the interval. The variance of the poisson distribution is equal to lambda."
   ]
  },
  {
   "attachments": {},
   "cell_type": "markdown",
   "metadata": {},
   "source": [
    "### 10.\tDefine covariance.\n",
    "\n",
    "Covariance  is a measure of how two variables change together.\n"
   ]
  },
  {
   "attachments": {},
   "cell_type": "markdown",
   "metadata": {},
   "source": [
    "### 11.\tDefine correlation\n",
    "\n",
    "Correlation is a measure of linear relationship between two variables. "
   ]
  },
  {
   "attachments": {},
   "cell_type": "markdown",
   "metadata": {},
   "source": [
    "### 12.\tDefine sampling with replacement. Give example.\n",
    "\n",
    "Sampling with replacement is a method of selecting a sample from a population, where each  selected item is returned to the population before the next item is selected.\n",
    "\n",
    "In machine learning, we take some datapoints from dataset, and replace them and take another sample while we are doing random forest regression or in K fold validation."
   ]
  },
  {
   "attachments": {},
   "cell_type": "markdown",
   "metadata": {},
   "source": [
    "### 13.\tWhat is sampling without replacement? Give example.\n",
    "\n",
    "Sampling with replacement is a method of selecting a sample from a population, where each  selected item is not returned to the population before the next item is selected.\n",
    "\n"
   ]
  },
  {
   "attachments": {},
   "cell_type": "markdown",
   "metadata": {},
   "source": [
    "### 14.\tWhat is hypothesis? Give example.\n",
    "\n",
    "A hypothesis is described as an educated guess about a specific population. Once it is defined, by using data, we can determine whether it provides enough evidence that hypothesis is true."
   ]
  }
 ],
 "metadata": {
  "language_info": {
   "name": "python"
  },
  "orig_nbformat": 4
 },
 "nbformat": 4,
 "nbformat_minor": 2
}
