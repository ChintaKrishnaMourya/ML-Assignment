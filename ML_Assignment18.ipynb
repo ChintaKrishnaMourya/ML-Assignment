{
 "cells": [
  {
   "attachments": {},
   "cell_type": "markdown",
   "metadata": {},
   "source": [
    "### 1. What is the difference between supervised and unsupervised learning? Give some examples to illustrate your point.\n",
    "\n",
    "Supervised learning is the learning techquie that uses labelled dataset and unsupervised learning uses unlabelled dataset for model.\n",
    "\n",
    "For example, the dataset with cats &dogs images with labels, after training, the model will predict whether the image is cat or dog, whereas\n",
    "\n",
    "unsupervised learning uses unlabelled data and find groups, relations in the dataset."
   ]
  },
  {
   "attachments": {},
   "cell_type": "markdown",
   "metadata": {},
   "source": [
    "### 2. What are the three main types of clustering methods? Briefly describe the characteristics of each.\n",
    "The three main types of clustering methods are hierarchical clustering, partitioning clustering, and density-based clustering.\n",
    "\n",
    "Hierarchical clustering: This method involves organizing data into a tree-like structure of clusters, where the root node represents the entire dataset and the leaf nodes represent individual data points\n",
    "\n",
    "Partitioning clustering: This method involves dividing data into a set of non-overlapping partitions or clusters, where each data point belongs to exactly one cluster. \n",
    "\n",
    "Density-based clustering: This method involves grouping together data points that are close to each other in terms of their density in the data space."
   ]
  },
  {
   "attachments": {},
   "cell_type": "markdown",
   "metadata": {},
   "source": [
    "### 3. Explain how the k-means algorithm determines the consistency of clustering.\n",
    "\n",
    "The k-means algorithm determines the consistency of clustering by minimizing the sum of squared distances between each data point and its assigned cluster center."
   ]
  },
  {
   "attachments": {},
   "cell_type": "markdown",
   "metadata": {},
   "source": [
    "### 4. What is a dendrogram, and how does it work? Explain how to do it.\n",
    "\n",
    "A dendrogram is a tree-like diagram that represents the hierarchical clustering of data points. It displays the relationships between data points and clusters, with the root node representing the entire dataset and the leaf nodes representing individual data points. \n",
    "\n"
   ]
  },
  {
   "attachments": {},
   "cell_type": "markdown",
   "metadata": {},
   "source": [
    "### 5. What exactly is SSE? What role does it play in the k-means algorithm?\n",
    "\n",
    "SSE stands for Sum of Squared Errors, also known as Within-Cluster Sum of Squares (WSS). \n",
    "\n",
    "The SSE plays a role in the k-means algorithm, as the algorithm aims to minimize the SSE by iteratively updating the cluster centers until convergence. "
   ]
  },
  {
   "attachments": {},
   "cell_type": "markdown",
   "metadata": {},
   "source": [
    "### 6. In the sense of hierarchical clustering, define the terms single link and complete link.\n",
    "\n",
    "In hierarchical clustering, single-linkage and complete-linkage are two common methods for measuring the distance between clusters.\n",
    "\n",
    "Single linkage (also known as nearest-neighbor clustering) measures the distance between the closest pair of points from two different clusters.\n",
    "\n",
    "Complete linkage (also known as farthest-neighbor clustering) measures the distance between the farthest pair of points from two different clusters."
   ]
  },
  {
   "attachments": {},
   "cell_type": "markdown",
   "metadata": {},
   "source": [
    "### 7. How does the apriori concept aid in the reduction of measurement overhead in a business basket analysis? Give an example to demonstrate your point.\n",
    "\n",
    "The Apriori algorithm is a popular method used in market basket analysis, a technique used by businesses to identify patterns in customer purchase behavior.  The algorithm works by identifying frequent itemsets, which are sets of items that are frequently purchased together by customers.\n"
   ]
  }
 ],
 "metadata": {
  "kernelspec": {
   "display_name": "Python 3",
   "language": "python",
   "name": "python3"
  },
  "language_info": {
   "name": "python",
   "version": "3.10.10"
  },
  "orig_nbformat": 4,
  "vscode": {
   "interpreter": {
    "hash": "40590ebb26e95edc6c1f3a8a7137aad132b51444b5d516fe05a60311a56b75f0"
   }
  }
 },
 "nbformat": 4,
 "nbformat_minor": 2
}
