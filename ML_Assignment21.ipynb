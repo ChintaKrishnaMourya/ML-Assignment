{
 "cells": [
  {
   "attachments": {},
   "cell_type": "markdown",
   "metadata": {},
   "source": [
    "### 1. What is the estimated depth of a Decision Tree trained (unrestricted) on a one million instance training set?\n",
    "\n",
    "The estimated depth of a decision tree trained on a one million instance training set will depend on several factors such as the complexity of the problem, number of features, and amount of noise in the data.\n",
    "\n",
    "It is usually considered, the depth around 20 to 30 will be good balance between accuracy and complexity. "
   ]
  },
  {
   "attachments": {},
   "cell_type": "markdown",
   "metadata": {},
   "source": [
    "### 2. Is the Gini impurity of a node usually lower or higher than that of its parent? Is it always lower/greater, or is it usually lower/greater?\n",
    "\n",
    "The Gini impurity of a node is usually lower than that of its parent after a split.\n",
    "\n",
    "Split is chosen to reduce the impurity, so generally child nodes will have lower impurity than parent node.\n",
    "\n",
    "Sometimes, it is not always lower than parent node, since some splits may not result in a significant reduction in impurity.\n",
    "\n"
   ]
  },
  {
   "attachments": {},
   "cell_type": "markdown",
   "metadata": {},
   "source": [
    "### 3. Explain if its a good idea to reduce max depth if a Decision Tree is overfitting the training set?\n",
    "\n",
    "It is good idea to reduce max depth if a Decision Tree is overfitting the training set.\n",
    "\n",
    "A deeper tree can learn more complex relationships in the data, but it may also fit noise in the training set, resulting in poor generalization performance on new data."
   ]
  },
  {
   "attachments": {},
   "cell_type": "markdown",
   "metadata": {},
   "source": [
    "### 4. Explain if its a good idea to try scaling the input features if a Decision Tree underfits the training set?\n",
    "\n",
    "Generally it is not needed to scale the data in decision trees. If it is underfitted, the nwe can do scaling, this will help the tree to find more complex relations in the data."
   ]
  },
  {
   "attachments": {},
   "cell_type": "markdown",
   "metadata": {},
   "source": [
    "### 5. How much time will it take to train another Decision Tree on a training set of 10 million instances if it takes an hour to train a Decision Tree on a training set with 1 million instances?\n",
    "\n",
    "I read somewhere, the time required to train the decision treee is rouhjly proportional to the size of the training data. So, it may take around 10 hours."
   ]
  },
  {
   "attachments": {},
   "cell_type": "markdown",
   "metadata": {},
   "source": [
    "### 6. Will setting presort=True speed up training if your training set has 100,000 instances?\n",
    "\n",
    "presort option tells the decision tree algorithm to sort the data before fitting the model, which can be computationally expensive for large datasets. So setting presort=True may not speed up training if our training set has 100,000 instances"
   ]
  }
 ],
 "metadata": {
  "kernelspec": {
   "display_name": "Python 3",
   "language": "python",
   "name": "python3"
  },
  "language_info": {
   "name": "python",
   "version": "3.10.10"
  },
  "orig_nbformat": 4,
  "vscode": {
   "interpreter": {
    "hash": "40590ebb26e95edc6c1f3a8a7137aad132b51444b5d516fe05a60311a56b75f0"
   }
  }
 },
 "nbformat": 4,
 "nbformat_minor": 2
}
