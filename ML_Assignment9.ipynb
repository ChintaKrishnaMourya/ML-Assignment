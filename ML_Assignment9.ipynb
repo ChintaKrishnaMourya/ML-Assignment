{
 "cells": [
  {
   "attachments": {},
   "cell_type": "markdown",
   "metadata": {},
   "source": [
    "### 1. What is feature engineering, and how does it work? Explain the various aspects of feature engineering in depth.\n",
    "\n",
    "Feature engineering is the process of transforming raw data into a set of features that can be used to train a machine learning model."
   ]
  },
  {
   "attachments": {},
   "cell_type": "markdown",
   "metadata": {},
   "source": [
    "### 2. What is feature selection, and how does it work? What is the aim of it? What are the various methods of function selection?\n",
    "\n",
    "Feature selection is the process of selecting relevant features from a larger set of features in a dataset to improve the performance.\n",
    "\n",
    "The aim of feature selection is to reduce the complexity of the model, improve its accuracy, and speed up its training process.\n",
    "\n",
    "methods of function selection : Filter Methods, Wrapper Methods."
   ]
  },
  {
   "attachments": {},
   "cell_type": "markdown",
   "metadata": {},
   "source": [
    "### 3. Describe the function selection filter and wrapper approaches. State the pros and cons of each approach?\n",
    "\n",
    "Filter Methods: These methods are used to evaluate the correlation between each feature and the target variable. Eg : filter methods include Pearson correlation coefficient, chi-squared test. They are computationally inexpensive. They do not take into account the interaction between features and may select irrelevant or redundant features.\n",
    "\n",
    "Wrapper Methods: These methods use a search algorithm to find the best subset of features that produce the most accurate model. Eg: wrapper methods recursive feature elimination, sequential feature selection. They can take into account the interaction between features and identify feature combinations that are most relevant."
   ]
  },
  {
   "attachments": {},
   "cell_type": "markdown",
   "metadata": {},
   "source": [
    "### 4. Describe the feature engineering process in the sense of a text categorization issue.\n",
    "\n",
    "feature engineering process in the sense of a text categorization issue : It transforms the input text data into a format that can be effectively used by machine learning algorithms. \n",
    "\n",
    "It involves Text Preprocessing(removing stop words, stemming or lemmatization, converting to lowercase, and removing punctuation), Feature extraction(convert the text data into a numerical representation), Feature selection(chi-square, and correlation-based feature selection), Feature scaling(scale the features to ensure that they are on the same scale and have similar ranges)."
   ]
  },
  {
   "attachments": {},
   "cell_type": "markdown",
   "metadata": {},
   "source": [
    "### 5. What is the formula for calculating Hamming distance? Between 10001011 and 11001111, calculate the Hamming gap.\n",
    "\n",
    "Hamming distance = number of positions where the two strings differ.\n",
    "\n",
    "10001011\n",
    "11001111\n",
    "The two strings differ in four positions, so the Hamming distance is 2.\n",
    "\n",
    "\n"
   ]
  }
 ],
 "metadata": {
  "language_info": {
   "name": "python"
  },
  "orig_nbformat": 4
 },
 "nbformat": 4,
 "nbformat_minor": 2
}
