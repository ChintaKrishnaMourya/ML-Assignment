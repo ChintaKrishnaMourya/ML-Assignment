{
 "cells": [
  {
   "attachments": {},
   "cell_type": "markdown",
   "metadata": {},
   "source": [
    "### 1. In a linear equation, what is the difference between a dependent variable and an independent variable?\n",
    "\n",
    "dependent variable is the output that we get and independent variable is the input variable that is used to make prediction."
   ]
  },
  {
   "attachments": {},
   "cell_type": "markdown",
   "metadata": {},
   "source": [
    "### 2. What is the concept of simple linear regression? Give a specific example.\n",
    "Simple linear regression is used to establish a relationship between two variables,where one variable is considered the independent variable and the other is considered the dependent variable."
   ]
  },
  {
   "attachments": {},
   "cell_type": "markdown",
   "metadata": {},
   "source": [
    "### 3. In a linear regression, define the slope.\n",
    "In linear regression, the slope is the measure of the inclination of the line that represents the relationship between the dependent and independent variables\n"
   ]
  },
  {
   "attachments": {},
   "cell_type": "markdown",
   "metadata": {},
   "source": [
    "### 4. Determine the graph's slope, where the lower point on the line is represented as (3, 2) and the higher point is represented as (2, 2).\n",
    " slope = m = (y2-y1)/(x2-x1)\n",
    "\n",
    " m = (2-2)/(2-3)= 0\n",
    "\n",
    " It is a vertical line.\n"
   ]
  },
  {
   "attachments": {},
   "cell_type": "markdown",
   "metadata": {},
   "source": [
    "### 5. In linear regression, what are the conditions for a positive slope?\n",
    "\n",
    "positive slope indicates that there is a direct relationship between the independent and dependent variables. So , if the variables are directly related, then we have positive slope."
   ]
  },
  {
   "attachments": {},
   "cell_type": "markdown",
   "metadata": {},
   "source": [
    "### 6. In linear regression, what are the conditions for a negative slope?\n",
    "\n",
    "Negative slope indicates that there is a inverse relationship between the independent and dependent variables. So , if the variables are inversly related, then we have negative slope."
   ]
  },
  {
   "attachments": {},
   "cell_type": "markdown",
   "metadata": {},
   "source": [
    "### 7. What is multiple linear regression and how does it work?\n",
    "\n",
    "Multiple linear regression is used to establish a relationship between more than two variables. \n",
    "\n",
    "It works by estimating the coefficients of the regression equation that best fits the data. Each independent variable is assigned a weight that represents its contribution to the dependent variable. "
   ]
  },
  {
   "attachments": {},
   "cell_type": "markdown",
   "metadata": {},
   "source": [
    "### 8. In multiple linear regression, define the number of squares due to error.\n",
    "\n",
    "Number of squares due to error represents the difference between the observed values of the dependent variable and the predicted values obtained from the regression equation. "
   ]
  },
  {
   "attachments": {},
   "cell_type": "markdown",
   "metadata": {},
   "source": [
    "### 9. In multiple linear regression, define the number of squares due to regression.\n",
    "\n",
    "\n",
    "number of squares due to regression is a measure of how well the regression line fits the data."
   ]
  },
  {
   "attachments": {},
   "cell_type": "markdown",
   "metadata": {},
   "source": [
    "### 10. In a regression equation, what is multicollinearity?\n",
    "\n",
    "Multicollinearity is a condition in which two or more independent variables in a regression model are highly correlated with each other."
   ]
  },
  {
   "attachments": {},
   "cell_type": "markdown",
   "metadata": {},
   "source": [
    "### 11. What is heteroskedasticity, and what does it mean?\n",
    "Heteroskedasticity is a condition in which the variance of the errors in a regression model is not constant across all values of the independent variables. \n"
   ]
  },
  {
   "attachments": {},
   "cell_type": "markdown",
   "metadata": {},
   "source": [
    "### 12. Describe the concept of ridge regression.\n",
    "It is a method for dealing with multicollinearity in regression analysis. It adds a penalty term to the regression equation that shrinks the coefficients of the independent variables towards zero, thereby reducing the impact of multicollinearity.\n"
   ]
  },
  {
   "attachments": {},
   "cell_type": "markdown",
   "metadata": {},
   "source": [
    "### 13. Describe the concept of lasso regression.\n",
    "\n",
    "It is method for dealing with multicollinearity in regression analysis. It adds a penalty term to the regression equation that shrinks the coefficients of some independent variables to zero, thereby selecting only the most important variables and reducing the impact of multicollinearity."
   ]
  },
  {
   "attachments": {},
   "cell_type": "markdown",
   "metadata": {},
   "source": [
    "### 14. What is polynomial regression and how does it work?\n",
    "\n",
    "It is a form of regression analysis in which the relationship between the independent variable and the dependent variable is modeled as an nth degree polynomial. "
   ]
  },
  {
   "attachments": {},
   "cell_type": "markdown",
   "metadata": {},
   "source": [
    "### 15. Describe how logistic regression works.\n",
    "It is a method for predicting the probability of a binary outcome based on one or more independent variables.\n"
   ]
  }
 ],
 "metadata": {
  "kernelspec": {
   "display_name": "Python 3",
   "language": "python",
   "name": "python3"
  },
  "language_info": {
   "name": "python",
   "version": "3.10.10"
  },
  "orig_nbformat": 4,
  "vscode": {
   "interpreter": {
    "hash": "40590ebb26e95edc6c1f3a8a7137aad132b51444b5d516fe05a60311a56b75f0"
   }
  }
 },
 "nbformat": 4,
 "nbformat_minor": 2
}
