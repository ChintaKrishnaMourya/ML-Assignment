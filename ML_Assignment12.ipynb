{
 "cells": [
  {
   "attachments": {},
   "cell_type": "markdown",
   "metadata": {},
   "source": [
    "### 1. What is prior probability? Give an example.\n",
    "\n",
    "Prior Probability is the probability of an event occurring before any additional evidence is taken into account. If we roll a dice, probability of rolling a six is 1/6, which is a prior probability."
   ]
  },
  {
   "attachments": {},
   "cell_type": "markdown",
   "metadata": {},
   "source": [
    "### 2. What is posterior probability? Give an example.\n",
    "Posterior probability is probability of an event occurring after any additional evidence is taken into account. If we roll a dice,and get a six, the posterior probability of rolling a six becomes 1.\n"
   ]
  },
  {
   "attachments": {},
   "cell_type": "markdown",
   "metadata": {},
   "source": [
    "### 3. What is likelihood probability? Give an example.\n",
    "\n",
    "Likelihood probability is the probability of observing a particular outcome given a certain hypothesis. The likelihood probability of getting a head on a fair coin is 0.5"
   ]
  },
  {
   "attachments": {},
   "cell_type": "markdown",
   "metadata": {},
   "source": [
    "### 4. What is Naïve Bayes classifier? Why is it named so?\n",
    "Naïve Bayes classifier is probablistic ML algorithm used for classification. It is named as Naive because it makes an assumption that features are independent of each other, which is often not true in practice.\n"
   ]
  },
  {
   "attachments": {},
   "cell_type": "markdown",
   "metadata": {},
   "source": [
    "### 5. What is optimal Bayes classifier?\n",
    "\n",
    "Optimal Bayes classifier is a classifier that uses Bayes' theorem to make predictions and assigns an observation to the class with the highest posterior probability."
   ]
  },
  {
   "attachments": {},
   "cell_type": "markdown",
   "metadata": {},
   "source": [
    "### 6. Write any two features of Bayesian learning methods.\n",
    "\n",
    "Two features of Bayesian learning methods are :\n",
    "\n",
    "ability to update predictions based on new data and ability to incorporate prior knowledge into the model."
   ]
  },
  {
   "attachments": {},
   "cell_type": "markdown",
   "metadata": {},
   "source": [
    "### 7. Define the concept of consistent learners.\n",
    "\n",
    "These are machine learning algorithms that converge to the correct hypothesis as the amount of training data increases."
   ]
  },
  {
   "attachments": {},
   "cell_type": "markdown",
   "metadata": {},
   "source": [
    "### 8. Write any two strengths of Bayes classifier.\n",
    "\n",
    "It can handle high dimensional data and is simple and easy-to-implement classification algorithm"
   ]
  },
  {
   "attachments": {},
   "cell_type": "markdown",
   "metadata": {},
   "source": [
    "### 9. Write any two weaknesses of Bayes classifier.\n",
    "\n",
    "Two weaknesses of Bayes classifier are :\n",
    "Assumption of independence between features, which may not hold in practice, and it is also sensitive to irrelevant features."
   ]
  },
  {
   "attachments": {},
   "cell_type": "markdown",
   "metadata": {},
   "source": [
    "### 10. Explain how Naïve Bayes classifier is used for\n",
    "\n",
    "1. Text classification : Naive Bayes classifier is used to classify a given document based on the occurrence of certain words in the document. Itr learns the probability of each word occurring in each category from a training set of labeled documents and uses this information to predict the category of new, unlabeled documents.\n",
    "\n",
    "2. Spam filtering : Naive Bayes classifier is used to predict whether an incoming email is spam or not based on its content. It learns the probability of certain words in spam emails and non-spam emails from a training set of labeled emails and uses this information to predict the probability of a new email being spam or not.\n",
    "\n",
    "3. Market sentiment analysis : Naive Bayes classifier learns the probability of certain words or phrases occurring in positive or negative sentiment articles from a training set of labeled articles and uses this information to predict the sentiment of new, unlabeled articles."
   ]
  }
 ],
 "metadata": {
  "language_info": {
   "name": "python"
  },
  "orig_nbformat": 4
 },
 "nbformat": 4,
 "nbformat_minor": 2
}
