{
 "cells": [
  {
   "attachments": {},
   "cell_type": "markdown",
   "metadata": {},
   "source": [
    "### 1. What is the concept of human learning? Please give two examples.\n",
    "\n",
    "In context of machine learning, the concept of human learning is the preocess of creating algorithms that learn from data, make predictions, and improve the performance over the time like how humans learn.\n",
    "\n",
    "For example, image classification: model learns from the labelled datset of images, and learns to recognize the images.And, for example chatbots, they learns from the large textual data and learns to predict the probability of next word."
   ]
  },
  {
   "attachments": {},
   "cell_type": "markdown",
   "metadata": {},
   "source": [
    "### 2. What different forms of human learning are there? Are there any machine learning equivalents?\n",
    "Human learning is also rely on processing and analysing data, i mean, both machine learning involve in this. Machine Learning use algorithms to extract patterns and insights, humans learn from their environment and process the information.\n",
    "\n",
    "Human learning also benefits from the feedback, thats how we improve. Like reinforcement machine learning algorithm, it learns from rewards and punishments.\n",
    "\n",
    "Every technology is indirectly imitation of nature."
   ]
  },
  {
   "attachments": {},
   "cell_type": "markdown",
   "metadata": {},
   "source": [
    "### 3. What is machine learning, and how does it work? What are the key responsibilities of machine learning?\n",
    "Machine Learning involves the developmemt of algorithms that kearn from data and improve their performance. They work by analysing data and learning patterns and relationships in the data. \n",
    "\n",
    "Key responsibilities of machine learning : Quality of data- data collection and also preprocessing the dat & algorithm development by tuning the hyperparameters."
   ]
  },
  {
   "attachments": {},
   "cell_type": "markdown",
   "metadata": {},
   "source": [
    "### 4. Define the terms &quot;penalty&quot; and &quot;reward&quot; in the context of reinforcement learning.\n",
    "\n",
    "\"penalty\" and \"reward\" are two types of feedback that are used to train reinforcement learning. \n",
    "\n",
    "Penalty is a negative feedback when algorithm makes incorrect decision and Reward is a positive feedback when correct decision is taken."
   ]
  },
  {
   "attachments": {},
   "cell_type": "markdown",
   "metadata": {},
   "source": [
    "### 5. Explain the term &quot;learning as a search&quot;?\n",
    "\n",
    "Talking in terms of machine learning , learning as a search, search for the best model or algorithm that can predict or classify new data accurately. "
   ]
  },
  {
   "attachments": {},
   "cell_type": "markdown",
   "metadata": {},
   "source": [
    "### 6. What are the various goals of machine learning? What is the relationship between these and human learning?\n",
    "Prediction , classification, clustering, and improving accuracy by tuning hyperparameters and learning from data etc the goals of machine learning. \n",
    "\n",
    "they are similar to human learning , human learning also involves acquisition of knowledge and experience to improve their performance to achieve better results."
   ]
  },
  {
   "attachments": {},
   "cell_type": "markdown",
   "metadata": {},
   "source": [
    "### 7. Illustrate the various elements of machine learning using a real-life illustration.\n",
    "In real life, pricing in ola, uber changes from place to place though distance, car model are same. \n",
    "Elements of machine learning : Data collection, preprocessing, feature exctraction, model selection, traning and testing and evaluating the results.\n",
    "The algorithm learns the various patterns, and place the customer in related cluster to predict the price."
   ]
  },
  {
   "attachments": {},
   "cell_type": "markdown",
   "metadata": {},
   "source": [
    "### 8. Provide an example of the abstraction method.\n",
    "\n",
    "Abstraction is a key technique to simply and genralise the complex data. \n",
    "\n",
    "Decision tree abstracts complex data into a simplified set of rules or criteria that can be used to classify new data like root node dpeends onthe gini iumpurity or entropy and then divides on imformation gain etc. "
   ]
  },
  {
   "attachments": {},
   "cell_type": "markdown",
   "metadata": {},
   "source": [
    "### 9. What is the concept of generalization? What function does it play in the machine learning process?\n",
    "In machine learning generalization means algorithm learns the dataset to understand the patterns and relationship among the datapoints. So that, when a new data point was given, algorithm uses this genralisation to predict or classify or cluster this point.\n"
   ]
  },
  {
   "attachments": {},
   "cell_type": "markdown",
   "metadata": {},
   "source": [
    "### 10. What is classification, exactly? What are the main distinctions between classification and regression?\n",
    "\n",
    "Classification means to classify the given datapoints to certain class based on the trained set. it involves the probability of datapoint falls inthat  class  in logistic regression, and in  decision trees, it depends on the how tree was divided.\n",
    "\n",
    "Distinction between regressionand classification is  : target variable in classification is categorical and in regression it is continuos. Regression predicts the new outcome , classification involves  classifying the point to a particular class, and evaluations used for them are also different. We use F1 score, AUC-ROC curve , recall etc for classification and for prediction , we use mean sqaured error, nmean absolute error and  r- squared error."
   ]
  },
  {
   "attachments": {},
   "cell_type": "markdown",
   "metadata": {},
   "source": [
    "### 11. What is regression, and how does it work? Give an example of a real-world problem that was solved using regression.\n",
    "\n",
    "Regression is a supervised learning used to predict the continuous output variable based on categorical or continuous features. We use regression to find the resale price of the flat based on number of rooms, floor number, etc."
   ]
  },
  {
   "attachments": {},
   "cell_type": "markdown",
   "metadata": {},
   "source": [
    "### 12. Describe the clustering mechanism in detail.\n",
    "Clustering is an unsupervised machine learning technique used in grouping of data points. Inter cluster pooints are more similar to each each other and intra cluster points are less similar.\n",
    "\n",
    "We select data and features , choosing a distance metric using euclidean distance or manhattan distance, and initialize clusters, assign objects to clusters, update the cluster centroids, iterate until convergence, and evaluate the clustering quality. \n"
   ]
  },
  {
   "attachments": {},
   "cell_type": "markdown",
   "metadata": {},
   "source": [
    "### 13. Make brief observations on two of the following topics:\n",
    "\n",
    "i. Machine learning algorithms are used\n",
    "ii. Studying under supervision\n",
    "iii. Studying without supervision\n",
    "iv. Reinforcement learning is a form of learning based on positive reinforcement.\n",
    "\n",
    "i. Machine Learning algorithms are used : in a variety of applications, from image and speech recognition to recommendation systems and self-driving cars.\n",
    "\n",
    "3 types : Supervised Learning , Unsupervised Learning and Reinforcement learning.\n",
    "\n",
    "Supervised Learning : These algorithms are trained on labelled dataset to predict/classify output on new input.\n",
    "\n",
    "Unsupervised Learning : These algorithms are trained on unlabelled dataset to indentify the underlying patterns in the data.\n",
    "\n",
    "Reinforcement Learning : It is a type of learning where an agent learns to take actions that maximize a reward signal. \n",
    "\n",
    "iv. Reinforcement learning is a form of learning based on positive reinforcement : In this, a=an agent learns to take actions in an environment to maximize a cumulative reward signal. It learns by trail and error, using using past experiences to inform future actions.It is used in self driving cars, robotics etc"
   ]
  }
 ],
 "metadata": {
  "kernelspec": {
   "display_name": "Python 3",
   "language": "python",
   "name": "python3"
  },
  "language_info": {
   "name": "python",
   "version": "3.10.10"
  },
  "orig_nbformat": 4,
  "vscode": {
   "interpreter": {
    "hash": "40590ebb26e95edc6c1f3a8a7137aad132b51444b5d516fe05a60311a56b75f0"
   }
  }
 },
 "nbformat": 4,
 "nbformat_minor": 2
}
