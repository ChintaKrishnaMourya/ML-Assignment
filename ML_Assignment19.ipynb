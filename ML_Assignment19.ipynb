{
 "cells": [
  {
   "attachments": {},
   "cell_type": "markdown",
   "metadata": {},
   "source": [
    "### 1. A set of one-dimensional data points is given to you: 5, 10, 15, 20, 25, 30, 35. Assume that k = 2 and that the first set of random centroid is 15, 32, and that the second set is 12, 30.\n",
    "\n",
    "### a) Using the k-means method, create two clusters for each set of centroid described above.\n",
    "\n",
    "First set of random centroids:\n",
    "\n",
    "Cluster 1: {5, 10, 15, 20}\n",
    "Cluster 2: {25, 30, 35}\n",
    "Second set of random centroids:\n",
    "\n",
    "Cluster 1: {5, 10, 15, 20, 25}\n",
    "Cluster 2: {30, 35}"
   ]
  },
  {
   "attachments": {},
   "cell_type": "markdown",
   "metadata": {},
   "source": [
    "### 2. Describe how the Market Basket Research makes use of association analysis concepts.\n",
    "\n",
    "Market Basket Research makes use of association analysis concepts to identify patterns in customer purchase behavior and create targeted strategies for product placement, cross-selling, and promotion. The Apriori algorithm is a commonly used technique for identifying frequent itemsets and association rules in Market Basket Analysis.\n",
    "\n",
    "\n",
    "\n"
   ]
  },
  {
   "attachments": {},
   "cell_type": "markdown",
   "metadata": {},
   "source": [
    "### 4. In hierarchical clustering, how is the distance between clusters measured? Explain how this metric is used to decide when to end the iteration.\n",
    "\n",
    "The distance between clusters in hierarchical clustering is measured using a distance metric, which is used to determine the similarity or dissimilarity between data points or clusters.\n",
    "\n",
    "The stopping criterion is used to decide when to end the iteration and is based on a predefined threshold for the distance between clusters or the number of data points in a cluster."
   ]
  },
  {
   "attachments": {},
   "cell_type": "markdown",
   "metadata": {},
   "source": [
    "### 5. In the k-means algorithm, how do you recompute the cluster centroids?\n",
    "\n",
    "In the k-means algorithm, the cluster centroids are recomputed at each iteration based on the current assignment of data points to clusters. The new centroid for a cluster is computed as the mean of all the data points assigned to that cluster."
   ]
  },
  {
   "attachments": {},
   "cell_type": "markdown",
   "metadata": {},
   "source": [
    "### 6. At the start of the clustering exercise, discuss one method for determining the required number of clusters.\n",
    "\n",
    "One commonly used method for determining the number of clusters is the Elbow method."
   ]
  },
  {
   "attachments": {},
   "cell_type": "markdown",
   "metadata": {},
   "source": [
    "### 7. Discuss the k-means algorithm&#39;s advantages and disadvantages.\n",
    "\n",
    "Advantages: Simple and easy to implement, Scalability.\n",
    "\n",
    "Disadvantages: Requires prior knowledge of the number of clusters, Not suitable for non-linearly separable data, Assumes equal-sized and equally distributed cluster"
   ]
  }
 ],
 "metadata": {
  "kernelspec": {
   "display_name": "Python 3",
   "language": "python",
   "name": "python3"
  },
  "language_info": {
   "codemirror_mode": {
    "name": "ipython",
    "version": 3
   },
   "file_extension": ".py",
   "mimetype": "text/x-python",
   "name": "python",
   "nbconvert_exporter": "python",
   "pygments_lexer": "ipython3",
   "version": "3.10.10"
  },
  "orig_nbformat": 4,
  "vscode": {
   "interpreter": {
    "hash": "40590ebb26e95edc6c1f3a8a7137aad132b51444b5d516fe05a60311a56b75f0"
   }
  }
 },
 "nbformat": 4,
 "nbformat_minor": 2
}
