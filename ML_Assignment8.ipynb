{
 "cells": [
  {
   "attachments": {},
   "cell_type": "markdown",
   "metadata": {},
   "source": [
    "### 1. What exactly is a feature? Give an example to illustrate your point.\n",
    "\n",
    "A feature is an individual columns or characteristic of a dataset that can be used to make predictions or solve a problem. \n",
    "\n",
    "In housing prices dataset, , the features might include the number of bedrooms, area, and location."
   ]
  },
  {
   "attachments": {},
   "cell_type": "markdown",
   "metadata": {},
   "source": [
    "### 2. What are the various circumstances in which feature construction is required?\n",
    "\n",
    "circumstances in which feature construction is required:\n",
    "\n",
    "When the original features are incomplete , or in wrong format for algorithmn,or when the new features can be derived from the original features to improve prediction accuracy."
   ]
  },
  {
   "attachments": {},
   "cell_type": "markdown",
   "metadata": {},
   "source": [
    "### 3. Describe how nominal variables are encoded.\n",
    "Nominal variables are encoded using one-hot encoding, which creates a new binary variable for each possible value of the nominal variable. \n"
   ]
  },
  {
   "attachments": {},
   "cell_type": "markdown",
   "metadata": {},
   "source": [
    "### 4. Describe how numeric features are converted to categorical features.\n",
    "Numeric features are converted to categorical features by dividing the range of the numeric feature into a set of intervals and assigning each interval a category label. \n"
   ]
  },
  {
   "attachments": {},
   "cell_type": "markdown",
   "metadata": {},
   "source": [
    "### 5. Describe the feature selection wrapper approach. State the advantages and disadvantages of this approach?\n",
    "Feature selection wrapper approach is about selecting a subset of features by training and evaluating a machine learning model on different subsets of the original features. \n",
    "\n",
    "Advantages :  Selecting features that work well together for specific learning task. \n",
    "\n",
    "Disadvantages : May lead to overfitting and computationally expensive."
   ]
  },
  {
   "attachments": {},
   "cell_type": "markdown",
   "metadata": {},
   "source": [
    "### 6. When is a feature considered irrelevant? What can be said to quantify it?\n",
    "\n",
    "A feature considered irrelevant if it doesnt contribute much in prediction or reduntant with another feature. They can be quantified using metrics suxh as correlation with target variable or features importance scores from machine learning model."
   ]
  },
  {
   "attachments": {},
   "cell_type": "markdown",
   "metadata": {},
   "source": [
    "### 7. When is a function considered redundant? What criteria are used to identify features that could be redundant?\n",
    "\n",
    "A function is considered as redundant if it can be expressed as a linear combination of other features. The criteria are used to identify features that could be redundant : high correlation between features. "
   ]
  },
  {
   "attachments": {},
   "cell_type": "markdown",
   "metadata": {},
   "source": [
    "### 8. What are the various distance measurements used to determine feature similarity?\n",
    "\n",
    "various distance measurements used to determine feature similarity : Euclidean distance, Manhattan distance, Jaccard similarity."
   ]
  },
  {
   "attachments": {},
   "cell_type": "markdown",
   "metadata": {},
   "source": [
    "### 9. State difference between Euclidean and Manhattan distances?\n",
    "Euclidean distance is a straight line distance between 2 points - displacement.\n",
    "\n",
    "Manhattan distance is the distance between two points measured along the axes of a Cartesian coordinate system."
   ]
  },
  {
   "attachments": {},
   "cell_type": "markdown",
   "metadata": {},
   "source": [
    "### 10. Distinguish between feature transformation and feature selection.\n",
    "\n",
    "Feature tranformation is about modifying the original feature like scaling or normalizing them. Feature selection is about selecting subset of features to use for learning."
   ]
  },
  {
   "attachments": {},
   "cell_type": "markdown",
   "metadata": {},
   "source": [
    "### 11. Make brief notes on any two of the following:\n",
    "\n",
    "\n",
    "1. The width of the silhouette : To evaluate the quality of clusters. It measures the similarity within the clusters and how unsimilar in intraclusters.\n",
    "\n",
    "2. Receiver operating characteristic curve :  Graphical represntation of the performance of a binary classifier at different thresholds. It plots TPR vs FPR at different thresholds."
   ]
  }
 ],
 "metadata": {
  "language_info": {
   "name": "python"
  },
  "orig_nbformat": 4
 },
 "nbformat": 4,
 "nbformat_minor": 2
}
