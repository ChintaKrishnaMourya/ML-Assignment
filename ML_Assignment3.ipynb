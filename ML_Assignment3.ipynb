{
 "cells": [
  {
   "attachments": {},
   "cell_type": "markdown",
   "metadata": {},
   "source": [
    "###   1.Explain the term machine learning, and how does it work? Explain two machine learning applications in the business world. What are some of the ethical concerns that machine learning applications could raise?\n",
    "\n",
    "Machine Learning is a subfield of Artificial intelligence. It involves development of alogorthims and models that helps computers learn and improve their performance. It is way to teach computers to recognize patterns in data and make predictions or decisions based on those patterns --> helps to generalise the data. It uses mathematics and statistical techniques to extract insights from data.\n",
    "\n",
    "We use regression to find the resale price of the flat based on number of rooms, floor number, etc, and clustering of customers on e-commernce websites.\n",
    "\n",
    "If data is bias and discriminatory , since it learns from data, results may also be biasd and discriminatory."
   ]
  },
  {
   "attachments": {},
   "cell_type": "markdown",
   "metadata": {},
   "source": [
    "### 2. Describe the process of human learning: i. Under the supervision of experts. ii. With the assistance of experts in an indirect manner. iii. Self-education\n",
    "\n",
    "Human learning under the supervision of experts at home or college. It can be compared with supervised machine learning model. Experts guide input(teaches us, guide us and suggest us) and possible output(future, results) to us.\n",
    "\n",
    "With the assistance of experts in an indirect manner : if the student has to revise himself after understanding the same concept under the assistance of experts at college.This can be compared with semi-supervised learning.\n",
    "\n",
    "Self-education: if the student is self-analysing the concept without any help from the experts.It can be compared with unsupervised learning."
   ]
  },
  {
   "attachments": {},
   "cell_type": "markdown",
   "metadata": {},
   "source": [
    "### 3. Provide a few examples of various types of machine learning.\n",
    "\n",
    "Regresssion which is a \"Supervised learning\" uses labelled data which we can use in house rent prediction, Clustering which is a \"unsupervised learning\" uses unlabelled data which we can use in clustering problems like e-commernce customer segmentation and \"Association rule mining\"  which is a \"unsupervised learning\" nd is used to infer associations among data points, which determines what items customers likely to buy etc"
   ]
  },
  {
   "attachments": {},
   "cell_type": "markdown",
   "metadata": {},
   "source": [
    "### 4. Examine the various forms of machine learning.\n",
    "\n",
    "Supervised learning : Regression used in predicting continuous outcome and Classification is used in spam detection, etc which is used in predicting categorical output.\n",
    "\n",
    "Unsupervised learning : CLustering used to find inherent relations in the data, Association used to find  interesting relations among variables within a large dataset using Apriori Algorithm, Eclat etc.\n",
    "\n",
    "Reinforcement Learning: works on a feedback-based process like humans.\n",
    "\n",
    "Semi-supervised learning: is a type of Machine Learning algorithm that lies between Supervised and Unsupervised machine learning. It is used to effectively use all the available data ."
   ]
  },
  {
   "attachments": {},
   "cell_type": "markdown",
   "metadata": {},
   "source": [
    "### 5. Can you explain what a well-posed learning problem is? Explain the main characteristics that must be present to identify a learning problem properly.\n",
    "\n",
    "If a program is said to learns from experience E, in some task T, and some performance measure P, if it performs on T with a performance measure P then it upgrades with experience E. Well-posed learning has 3 traits : Task, Performance Measure, Experience."
   ]
  },
  {
   "attachments": {},
   "cell_type": "markdown",
   "metadata": {},
   "source": [
    "### 6. Is machine learning capable of solving all problems? Give a detailed explanation of your answer.\n",
    "ML can be used to help make decisions, classifications, and predictions in various domains, but obviously it is not omnipotent to all problems.\n",
    "\n",
    "Becuase, every data has its uniqueness. Solving ML problem depends on domain knowledge, and how quality is the data and how features are related to each other and every algorithn has unique working style and it depends on hyperparameters. We may not produce best model , but we can achiece it to some extent."
   ]
  },
  {
   "attachments": {},
   "cell_type": "markdown",
   "metadata": {},
   "source": [
    "### 7. What are the various methods and technologies for solving machine learning problems? Any two of them should be defined in detail.\n",
    "\n"
   ]
  },
  {
   "attachments": {},
   "cell_type": "markdown",
   "metadata": {},
   "source": [
    "### 8. Can you explain the various forms of supervised learning? Explain each one with an example application.\n",
    "\n",
    "Supervised MAchine LEarning : Regression, Classification.\n",
    "\n",
    "Regression is used to predict target based on individual features. Used in predicting trends, weather prediction.\n",
    "\n",
    "Classification is used to classification problems, used to predict catergorical output, used to solve spam detection, email filtering etc."
   ]
  },
  {
   "attachments": {},
   "cell_type": "markdown",
   "metadata": {},
   "source": [
    "### 9. What is the difference between supervised and unsupervised learning? With a sample application in each region, explain the differences.\n",
    "\n",
    "Supervised learning uses labelled dataset to predcit outcome, whereas unsupervised learnig uses unlabelled dataset used to find similarities within the group.\n",
    "\n",
    "Supervised learning used in image segmentation, medical diagnosis, fraud detection, spam detection etc and Unsupervised learning used in doing PCA, clustering of customers, etc "
   ]
  },
  {
   "attachments": {},
   "cell_type": "markdown",
   "metadata": {},
   "source": [
    "### 10. Describe the machine learning process in depth. a. Make brief notes on any two of the following: i. MATLAB is one of the most widely used programming languages. ii. Deep learning applications in healthcare. iii. Study of the market basket. iv. Linear regression (simple).\n",
    "\n",
    "Study of the market basket : Popular example of frequent itemset mining is Market Basket Analysis. It leads to find associations. MAny companies are using this to give customer satisfaction and improve their business. \n",
    "\n",
    "Linear Regression : It is a supervised learning algorithm. It performs regression task. Used to predict output based on input, mostly used in prediction between variables and forecasting. Cost fucntion used in linear regression is : RMSE. This cost fucntions helps us to achieve best fit line."
   ]
  },
  {
   "attachments": {},
   "cell_type": "markdown",
   "metadata": {},
   "source": [
    "### 11. Make a comparison between:- 1. Generalization and abstraction. 2. Learning that is guided and unsupervised. 3. Regression and classification.\n",
    "Abstraction is a key technique to simply and genralise the complex data. Generalizationuses abstracted data to create knowledge and inferences that drive action in new contexts.\n",
    "\n",
    "Learning that is guided and unsupervised. : guided learning is a type of supervised learning, which uses a labeled training data to develop a model. In unsupervised learning, the algorithm learns the relations within the data without any lables.\n",
    "\n",
    " Regression and classification : Both are supervised learning. Regression is used to predict outcome, output variable is continuous ,where as classification is used to classify the data, output variable is catergorical."
   ]
  },
  {
   "cell_type": "markdown",
   "metadata": {},
   "source": []
  }
 ],
 "metadata": {
  "kernelspec": {
   "display_name": "Python 3",
   "language": "python",
   "name": "python3"
  },
  "language_info": {
   "codemirror_mode": {
    "name": "ipython",
    "version": 3
   },
   "file_extension": ".py",
   "mimetype": "text/x-python",
   "name": "python",
   "nbconvert_exporter": "python",
   "pygments_lexer": "ipython3",
   "version": "3.10.10"
  },
  "orig_nbformat": 4,
  "vscode": {
   "interpreter": {
    "hash": "40590ebb26e95edc6c1f3a8a7137aad132b51444b5d516fe05a60311a56b75f0"
   }
  }
 },
 "nbformat": 4,
 "nbformat_minor": 2
}
