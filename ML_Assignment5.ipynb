{
 "cells": [
  {
   "attachments": {},
   "cell_type": "markdown",
   "metadata": {},
   "source": [
    "### 1. What are the key tasks that machine learning entails? What does data pre-processing imply?\n",
    "\n",
    "Key tasks are regression, classification, clustering, anomaly detection, etc.\n",
    "\n",
    "Data pre processing : Data collction, dealing outliers and missing values and manipulating the data to our needs like encoding and scalling, and feature selection and dimensinality reduction. This way we change raw data to suit the machine learning purposes."
   ]
  },
  {
   "attachments": {},
   "cell_type": "markdown",
   "metadata": {},
   "source": [
    "### 2. Describe quantitative and qualitative data in depth. Make a distinction between the two.\n",
    "\n",
    "Qualitative data is collected by interviewing and observing.It is more descriptive. It gives more meaning insights and it is exploratory where as quantitative data is collected by measuring and counted. It refers to numerical data.\n",
    "\n",
    "Quantitative data is analyzed using statistical analysis, while qualitative data is analyzed by grouping it in terms of meaningful categories or themes."
   ]
  },
  {
   "attachments": {},
   "cell_type": "markdown",
   "metadata": {},
   "source": [
    "### 3. Create a basic data collection that includes some sample records. Have at least one attribute from each of the machine learning data types.\n",
    "\n",
    "Having at least one attribute from each of the machine learning data types: "
   ]
  },
  {
   "cell_type": "code",
   "execution_count": 2,
   "metadata": {},
   "outputs": [
    {
     "data": {
      "text/html": [
       "<div>\n",
       "<style scoped>\n",
       "    .dataframe tbody tr th:only-of-type {\n",
       "        vertical-align: middle;\n",
       "    }\n",
       "\n",
       "    .dataframe tbody tr th {\n",
       "        vertical-align: top;\n",
       "    }\n",
       "\n",
       "    .dataframe thead th {\n",
       "        text-align: right;\n",
       "    }\n",
       "</style>\n",
       "<table border=\"1\" class=\"dataframe\">\n",
       "  <thead>\n",
       "    <tr style=\"text-align: right;\">\n",
       "      <th></th>\n",
       "      <th>Date</th>\n",
       "      <th>Country</th>\n",
       "      <th>Weight</th>\n",
       "      <th>Blood_group</th>\n",
       "      <th>category</th>\n",
       "    </tr>\n",
       "  </thead>\n",
       "  <tbody>\n",
       "    <tr>\n",
       "      <th>0</th>\n",
       "      <td>12-12-2023</td>\n",
       "      <td>India</td>\n",
       "      <td>56kg</td>\n",
       "      <td>A+</td>\n",
       "      <td>2</td>\n",
       "    </tr>\n",
       "    <tr>\n",
       "      <th>1</th>\n",
       "      <td>01-01-2023</td>\n",
       "      <td>France</td>\n",
       "      <td>70kg</td>\n",
       "      <td>B-</td>\n",
       "      <td>1</td>\n",
       "    </tr>\n",
       "    <tr>\n",
       "      <th>2</th>\n",
       "      <td>15-02-2023</td>\n",
       "      <td>Israel</td>\n",
       "      <td>59kg</td>\n",
       "      <td>o+</td>\n",
       "      <td>3</td>\n",
       "    </tr>\n",
       "  </tbody>\n",
       "</table>\n",
       "</div>"
      ],
      "text/plain": [
       "         Date Country Weight Blood_group  category\n",
       "0  12-12-2023   India   56kg          A+         2\n",
       "1  01-01-2023  France   70kg          B-         1\n",
       "2  15-02-2023  Israel   59kg          o+         3"
      ]
     },
     "execution_count": 2,
     "metadata": {},
     "output_type": "execute_result"
    }
   ],
   "source": [
    "import pandas as pd\n",
    "\n",
    "feature_1 = [\"12-12-2023\", \"India\", \"56kg\", \"A+\", 2]\n",
    "feature_2 = [\"01-01-2023\" , \"France\",\"70kg\", \"B-\",1]\n",
    "feature_3 = [\"15-02-2023\",\"Israel\",\"59kg\",\"o+\", 3]\n",
    "columns = [\"Date\",\"Country\", \"Weight\", \"Blood_group\", \"category\"]\n",
    "\n",
    "pd.DataFrame([feature_1,feature_2,feature_3], columns = columns)"
   ]
  },
  {
   "attachments": {},
   "cell_type": "markdown",
   "metadata": {},
   "source": [
    "### 4. What are the various causes of machine learning data issues? What are the ramifications?\n",
    "\n",
    "Poor quality of data- unclean and noisy data, lack of trainig data, or not generalised, noisy , corrupted with irrelavent features.\n",
    "\n",
    "Ramifications : over fitting,underfitting, biased predictions, getting bad recommendations in recommender system etc.\n",
    "\n",
    "\n"
   ]
  },
  {
   "attachments": {},
   "cell_type": "markdown",
   "metadata": {},
   "source": [
    "### 5. Demonstrate various approaches to categorical data exploration with appropriate examples.\n",
    "\n",
    "Bar grapg, pie charts helps us to explore catergorical data.\n",
    "\n",
    "Suppose we have colums = various cars , in other olumn we have their respective sales. We can plot bar graph to visually see which car has more sales"
   ]
  },
  {
   "cell_type": "code",
   "execution_count": 4,
   "metadata": {},
   "outputs": [
    {
     "data": {
      "text/plain": [
       "<function matplotlib.pyplot.show(close=None, block=None)>"
      ]
     },
     "execution_count": 4,
     "metadata": {},
     "output_type": "execute_result"
    },
    {
     "data": {
      "image/png": "[encoded data removed]",
      "text/plain": [
       "<Figure size 640x480 with 1 Axes>"
      ]
     },
     "metadata": {},
     "output_type": "display_data"
    }
   ],
   "source": [
    "cars = [\"Tata\",\"Maruti\",\"MG\",\"Renault\",\" Honda\"]\n",
    "sales = [4000,2500,1200,1000,3000]\n",
    "import matplotlib.pyplot as plt\n",
    "plt.bar(cars, height=sales)\n",
    "plt.show"
   ]
  },
  {
   "cell_type": "code",
   "execution_count": 5,
   "metadata": {},
   "outputs": [
    {
     "data": {
      "text/plain": [
       "<function matplotlib.pyplot.show(close=None, block=None)>"
      ]
     },
     "execution_count": 5,
     "metadata": {},
     "output_type": "execute_result"
    },
    {
     "data": {
      "image/png": "[encoded data removed]",
      "text/plain": [
       "<Figure size 640x480 with 1 Axes>"
      ]
     },
     "metadata": {},
     "output_type": "display_data"
    }
   ],
   "source": [
    "plt.pie(sales, labels=cars)\n",
    "plt.show"
   ]
  },
  {
   "attachments": {},
   "cell_type": "markdown",
   "metadata": {},
   "source": [
    "### 6. How would the learning activity be affected if certain variables have missing values? Having said that, what can be done about it?\n",
    "many machine learning algorithms do not allow missing values. We may end up having biased model and missing values can lead to lack of precision .\n",
    "\n",
    "We can deal missing values by deleting Rows with missing values or imputing them with mean,median or mode, or by using algorithms that supports missing values etc\n",
    "\n"
   ]
  },
  {
   "attachments": {},
   "cell_type": "markdown",
   "metadata": {},
   "source": [
    "### 7. Describe the various methods for dealing with missing data values in depth.\n",
    "\n",
    "Deleting the Missing values : deleting entire row or column.\n",
    "\n",
    "Imputing the Missing Values : Imputing  or replacing with mean, median ,mode or by forward fill, etc and for categorical values we can impute with most frequent value."
   ]
  },
  {
   "attachments": {},
   "cell_type": "markdown",
   "metadata": {},
   "source": [
    "### 8. What are the various data pre-processing techniques? Explain dimensionality reduction and feature selection in a few words.\n",
    "\n",
    "data pre-processing techniques : Dealing outliers like capping or by replacing them with other numbers, imputation, sampling, normalisation, feature extraction, dimensinality reduction.\n",
    "\n",
    "Dimensionality reduction : transforms the features into a lower dimension without losing the information.\n",
    "\n",
    "Feature selection : Selecting the features that best represent the relationship between features and target."
   ]
  },
  {
   "attachments": {},
   "cell_type": "markdown",
   "metadata": {},
   "source": [
    "### 9.\n",
    "\n",
    "### i. What is the IQR? What criteria are used to assess it?\n",
    "IQR is used to measure variability by dividing a data set into quartiles. Data is sorted in decending order and split into Q1,Q2,Q3-->separates data into 4 parts.\n",
    "\n",
    "Q1 --> 25th percentile of the data. \n",
    "Q2 --> 50th percentile of the data.\n",
    "Q3 --> 75th percentile of the data.\n",
    "\n",
    "IQR = Q3-Q1 --> Inter Quartile range.\n",
    "\n",
    "### ii. Describe the various components of a box plot in detail? When will the lower whisker surpass the upper whisker in length? How can box plots be used to identify outliers?\n",
    "\n",
    "Boxplot gives minimum, maximum values; median; Q1,Q2,Q3 and IQR."
   ]
  },
  {
   "attachments": {},
   "cell_type": "markdown",
   "metadata": {},
   "source": [
    "### 10. Make brief notes on any two of the following:\n",
    "\n",
    "1. Data collected at regular intervals : It is called time series. Data points is labelled with time.\n",
    "\n",
    "2. The gap between the quartiles : It gives interquartile, semi-interquartile, mid-quartile ranges. \n",
    "\n",
    "3. Use a cross-tab : It is used to analyse the relationship between multiple variables. "
   ]
  }
 ],
 "metadata": {
  "kernelspec": {
   "display_name": "Python 3",
   "language": "python",
   "name": "python3"
  },
  "language_info": {
   "codemirror_mode": {
    "name": "ipython",
    "version": 3
   },
   "file_extension": ".py",
   "mimetype": "text/x-python",
   "name": "python",
   "nbconvert_exporter": "python",
   "pygments_lexer": "ipython3",
   "version": "3.10.10"
  },
  "orig_nbformat": 4,
  "vscode": {
   "interpreter": {
    "hash": "40590ebb26e95edc6c1f3a8a7137aad132b51444b5d516fe05a60311a56b75f0"
   }
  }
 },
 "nbformat": 4,
 "nbformat_minor": 2
}
