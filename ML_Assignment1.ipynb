{
 "cells": [
  {
   "attachments": {},
   "cell_type": "markdown",
   "metadata": {},
   "source": [
    "### 1. What does one mean by the term &quot;machine learning&quot;?\n",
    "\n",
    "Machine Learning is a subfield of Artificial intelligence. It involves development of alogorthims and models that helps computers learn and improve their performance. It is way to teach computers to recognize patterns in data and make predictions or decisions based on those patterns --> helps to generalise the data. It uses mathematics and statistical techniques to extract insights from data."
   ]
  },
  {
   "attachments": {},
   "cell_type": "markdown",
   "metadata": {},
   "source": [
    "### 2.Can you think of 4 distinct types of issues where it shines?\n",
    "4 distinct types of issues where ML shines : Image Recognition, Fraud Detection, Recommender systems, Natural Language Processing, that helps to build  chatbots, voice assistants.\n"
   ]
  },
  {
   "attachments": {},
   "cell_type": "markdown",
   "metadata": {},
   "source": [
    "### 3.What is a labeled training set, and how does it work?\n",
    "Labeled training set means dataset that contains values of the response(target column) along with feature variables(predictors or independent features). We use supervised machine learning incase of labeled dataset to train algorithms to classify data or predict outcomes accurately."
   ]
  },
  {
   "attachments": {},
   "cell_type": "markdown",
   "metadata": {},
   "source": [
    "### 4.What are the two most important tasks that are supervised?\n",
    "The two most important tasks that are supervised : Regression and Classification."
   ]
  },
  {
   "attachments": {},
   "cell_type": "markdown",
   "metadata": {},
   "source": [
    "### 5.Can you think of four examples of unsupervised tasks?\n",
    "\n",
    "CLustering,Dimensionality Reduction, Anomaly Detection, Association Rule Learning."
   ]
  },
  {
   "attachments": {},
   "cell_type": "markdown",
   "metadata": {},
   "source": [
    "### 6.State the machine learning model that would be best to make a robot walk through various unfamiliar terrains?\n",
    "Reinforcement learning model would be best because it receives feedback in the form of rewards or penalties based on its actions."
   ]
  },
  {
   "attachments": {},
   "cell_type": "markdown",
   "metadata": {},
   "source": [
    "### 7.Which algorithm will you use to divide your customers into different groups?\n",
    "We can use clustering algorithm to divide customers into dsifferent groups.\n",
    "k-means, Hierarchical clustering, DBSCAN."
   ]
  },
  {
   "attachments": {},
   "cell_type": "markdown",
   "metadata": {},
   "source": [
    "### 8.Will you consider the problem of spam detection to be a supervised or unsupervised learning problem?\n",
    "Problem of spam detection can be considered to be a supervised learning problem."
   ]
  },
  {
   "attachments": {},
   "cell_type": "markdown",
   "metadata": {},
   "source": [
    "### 9.What is the concept of an online learning system?\n",
    "\n",
    "It is a type of machine learning system that updates its model continuously as new data becomes available. The model is updated incrementally, rather than being trained on a fixed dataset."
   ]
  },
  {
   "attachments": {},
   "cell_type": "markdown",
   "metadata": {},
   "source": [
    "### 10.What is out-of-core learning, and how does it differ from core learning?\n",
    "out-of-core learning is a typer of Machine LEarning designed to handle datasets that are too large to fit into memory. It is also known as \"streaming learning\" . The main difference between out-of-core learning and core learning is,the data is processed sequentially rather than being loaded into memory all at once."
   ]
  },
  {
   "attachments": {},
   "cell_type": "markdown",
   "metadata": {},
   "source": [
    "### 11.What kind of learning algorithm makes predictions using a similarity measure?\n",
    "Instance-based learning algorithms makes predictions using a similarity measure. They will memorise all the data and then uses the similarity measure ."
   ]
  },
  {
   "attachments": {},
   "cell_type": "markdown",
   "metadata": {},
   "source": [
    "### 12.What&#39;s the difference between a model parameter and a hyperparameter in a learning algorithm?\n",
    "\n",
    "A model parameter is a variable or weight that is learned by the model during training.\n",
    "\n",
    "A hyperparameter is a variable that is set by the user before training and influences the learning process."
   ]
  },
  {
   "attachments": {},
   "cell_type": "markdown",
   "metadata": {},
   "source": [
    "### 13.What are the criteria that model-based learning algorithms look for? What is the most popular method they use to achieve success? What method do they use to make predictions?\n",
    "\n",
    "the criteria that model-based learning algorithms look for : Accuracy, Generalisation, Optimisation.\n",
    "\n",
    "To achive success, they use optimisation or training in which algorithm learn parameters that minimise loss function.\n",
    "\n",
    "To make a prediction,  the model takes the input data and uses the learned parameters to generate a prediction for the target variable."
   ]
  },
  {
   "attachments": {},
   "cell_type": "markdown",
   "metadata": {},
   "source": [
    "### 14.Can you name four of the most important Machine Learning challenges?\n",
    "\n",
    "Quality of data and also quantity.\n",
    "Overfitting and Underfitting.\n",
    "Right Model selection by understanding the data and domain knowledge.\n",
    "Choosing right hyperparameters."
   ]
  },
  {
   "attachments": {},
   "cell_type": "markdown",
   "metadata": {},
   "source": [
    "### 15.What happens if the model performs well on the training data but fails to generalize the results to new situations? Can you think of three different options?\n",
    "\n",
    "This is called OVerfitting. To deal with overfitting, we should reduce complexity by removing features or reduction of features, or by giving more data and constraining parameters. We can reduce noise by fixing errors and dealing with outliers."
   ]
  },
  {
   "attachments": {},
   "cell_type": "markdown",
   "metadata": {},
   "source": [
    "### 16.What exactly is a test set, and why would you need one?\n",
    "Test set is the data we give to the trained model which is trainded by training set to understand how well it is performing. We split the datsaet into traning set and test set in the ratio. \n",
    "\n",
    "If error rate on test set is high , and error rate on training set is high, it means we're overfitting our model."
   ]
  },
  {
   "attachments": {},
   "cell_type": "markdown",
   "metadata": {},
   "source": [
    "### 17.What is a validation set&#39;s purpose?\n",
    "\n",
    "A validation set is a subset of the dataset that is held out during training and used to evaluate the performance of a trained model.\n",
    "\n",
    "The purpose of the validation set is to assess how well the trained model generalizes to new, unseen data. It is typically used in the process of hyperparameter tuning, which involves selecting the optimal values for the hyperparameters of the model."
   ]
  },
  {
   "attachments": {},
   "cell_type": "markdown",
   "metadata": {},
   "source": [
    "### 18.What precisely is the train-dev kit, when will you need it, how do you put it to use?\n",
    "It is a dataset used in machine learning helps us to prevent overfitting. The original training set is split into two parts--> a smaller train-dev set and a larger training set. After training model on large train set, it is tested with smaller train-dev set, to measure the performance and to adjust hyperparameters ."
   ]
  },
  {
   "attachments": {},
   "cell_type": "markdown",
   "metadata": {},
   "source": [
    "### 19.What could go wrong if you use the test set to tune hyperparameters?\n",
    "Our model wont generalise new examples. It can lead to overfitting."
   ]
  },
  {
   "cell_type": "markdown",
   "metadata": {},
   "source": []
  }
 ],
 "metadata": {
  "language_info": {
   "name": "python"
  },
  "orig_nbformat": 4
 },
 "nbformat": 4,
 "nbformat_minor": 2
}
